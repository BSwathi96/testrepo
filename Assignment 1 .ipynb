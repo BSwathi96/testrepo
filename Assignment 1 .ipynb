{
    "cells": [
        {
            "cell_type": "markdown",
            "metadata": {
                "collapsed": true
            },
            "source": "# My Jupyter Notebook on IBM Watson Studio"
        },
        {
            "cell_type": "markdown",
            "metadata": {},
            "source": "**SWATHI B**\nTechnical Support Engineer"
        },
        {
            "cell_type": "markdown",
            "metadata": {},
            "source": "*I am interested in data science*"
        },
        {
            "cell_type": "markdown",
            "metadata": {},
            "source": "### Sum of two numbers "
        },
        {
            "cell_type": "code",
            "execution_count": 3,
            "metadata": {},
            "outputs": [
                {
                    "name": "stdout",
                    "output_type": "stream",
                    "text": "12\n"
                }
            ],
            "source": "a = 5\nb = 7\nsum = a+b\nprint(sum)\n"
        },
        {
            "cell_type": "markdown",
            "metadata": {},
            "source": "<ol><li>item1</li><li>item2</li><li>item3</li><li>item4</li><li>item5</li></ol>"
        },
        {
            "cell_type": "markdown",
            "metadata": {},
            "source": "<ul><li>item1</li><li>item2</li><li>item3</li><li>item4</li><li>item5</li></ul>"
        },
        {
            "cell_type": "markdown",
            "metadata": {},
            "source": "~~strikeout~~"
        }
    ],
    "metadata": {
        "kernelspec": {
            "display_name": "Python 3.8",
            "language": "python",
            "name": "python3"
        },
        "language_info": {
            "codemirror_mode": {
                "name": "ipython",
                "version": 3
            },
            "file_extension": ".py",
            "mimetype": "text/x-python",
            "name": "python",
            "nbconvert_exporter": "python",
            "pygments_lexer": "ipython3",
            "version": "3.8.11"
        }
    },
    "nbformat": 4,
    "nbformat_minor": 1
}